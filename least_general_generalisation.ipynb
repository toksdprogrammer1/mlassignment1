{
 "cells": [
  {
   "cell_type": "code",
   "execution_count": 292,
   "outputs": [
    {
     "name": "stdout",
     "output_type": "stream",
     "text": [
      "1813\n"
     ]
    },
    {
     "data": {
      "text/plain": "        0     1     2    3     4     5     6     7     8     9   ...     48  \\\n1808  0.00  0.00  0.00  0.0  0.00  0.23  0.00  0.00  0.00  0.00  ...  0.077   \n1809  0.39  0.00  0.00  0.0  0.00  0.39  0.79  0.00  0.00  0.39  ...  0.000   \n1810  0.00  0.00  0.77  0.0  0.38  0.38  0.38  0.00  0.00  0.77  ...  0.063   \n1811  0.00  0.00  0.00  0.0  0.53  0.00  0.53  0.00  0.53  0.00  ...  0.000   \n1812  0.00  0.31  0.42  0.0  0.00  0.10  0.00  0.52  0.21  0.52  ...  0.000   \n\n         49     50     51     52     53     54   55    56  57  \n1808  0.038  0.000  0.000  0.000  0.038  2.600   42   182   1  \n1809  0.064  0.000  0.640  0.192  0.000  2.740   13    74   1  \n1810  0.127  0.255  0.510  0.000  0.000  3.685   62   258   1  \n1811  0.000  0.000  0.082  0.000  0.000  4.391   66   101   1  \n1812  0.016  0.000  0.887  0.032  0.049  3.446  318  1003   1  \n\n[5 rows x 58 columns]",
      "text/html": "<div>\n<style scoped>\n    .dataframe tbody tr th:only-of-type {\n        vertical-align: middle;\n    }\n\n    .dataframe tbody tr th {\n        vertical-align: top;\n    }\n\n    .dataframe thead th {\n        text-align: right;\n    }\n</style>\n<table border=\"1\" class=\"dataframe\">\n  <thead>\n    <tr style=\"text-align: right;\">\n      <th></th>\n      <th>0</th>\n      <th>1</th>\n      <th>2</th>\n      <th>3</th>\n      <th>4</th>\n      <th>5</th>\n      <th>6</th>\n      <th>7</th>\n      <th>8</th>\n      <th>9</th>\n      <th>...</th>\n      <th>48</th>\n      <th>49</th>\n      <th>50</th>\n      <th>51</th>\n      <th>52</th>\n      <th>53</th>\n      <th>54</th>\n      <th>55</th>\n      <th>56</th>\n      <th>57</th>\n    </tr>\n  </thead>\n  <tbody>\n    <tr>\n      <th>1808</th>\n      <td>0.00</td>\n      <td>0.00</td>\n      <td>0.00</td>\n      <td>0.0</td>\n      <td>0.00</td>\n      <td>0.23</td>\n      <td>0.00</td>\n      <td>0.00</td>\n      <td>0.00</td>\n      <td>0.00</td>\n      <td>...</td>\n      <td>0.077</td>\n      <td>0.038</td>\n      <td>0.000</td>\n      <td>0.000</td>\n      <td>0.000</td>\n      <td>0.038</td>\n      <td>2.600</td>\n      <td>42</td>\n      <td>182</td>\n      <td>1</td>\n    </tr>\n    <tr>\n      <th>1809</th>\n      <td>0.39</td>\n      <td>0.00</td>\n      <td>0.00</td>\n      <td>0.0</td>\n      <td>0.00</td>\n      <td>0.39</td>\n      <td>0.79</td>\n      <td>0.00</td>\n      <td>0.00</td>\n      <td>0.39</td>\n      <td>...</td>\n      <td>0.000</td>\n      <td>0.064</td>\n      <td>0.000</td>\n      <td>0.640</td>\n      <td>0.192</td>\n      <td>0.000</td>\n      <td>2.740</td>\n      <td>13</td>\n      <td>74</td>\n      <td>1</td>\n    </tr>\n    <tr>\n      <th>1810</th>\n      <td>0.00</td>\n      <td>0.00</td>\n      <td>0.77</td>\n      <td>0.0</td>\n      <td>0.38</td>\n      <td>0.38</td>\n      <td>0.38</td>\n      <td>0.00</td>\n      <td>0.00</td>\n      <td>0.77</td>\n      <td>...</td>\n      <td>0.063</td>\n      <td>0.127</td>\n      <td>0.255</td>\n      <td>0.510</td>\n      <td>0.000</td>\n      <td>0.000</td>\n      <td>3.685</td>\n      <td>62</td>\n      <td>258</td>\n      <td>1</td>\n    </tr>\n    <tr>\n      <th>1811</th>\n      <td>0.00</td>\n      <td>0.00</td>\n      <td>0.00</td>\n      <td>0.0</td>\n      <td>0.53</td>\n      <td>0.00</td>\n      <td>0.53</td>\n      <td>0.00</td>\n      <td>0.53</td>\n      <td>0.00</td>\n      <td>...</td>\n      <td>0.000</td>\n      <td>0.000</td>\n      <td>0.000</td>\n      <td>0.082</td>\n      <td>0.000</td>\n      <td>0.000</td>\n      <td>4.391</td>\n      <td>66</td>\n      <td>101</td>\n      <td>1</td>\n    </tr>\n    <tr>\n      <th>1812</th>\n      <td>0.00</td>\n      <td>0.31</td>\n      <td>0.42</td>\n      <td>0.0</td>\n      <td>0.00</td>\n      <td>0.10</td>\n      <td>0.00</td>\n      <td>0.52</td>\n      <td>0.21</td>\n      <td>0.52</td>\n      <td>...</td>\n      <td>0.000</td>\n      <td>0.016</td>\n      <td>0.000</td>\n      <td>0.887</td>\n      <td>0.032</td>\n      <td>0.049</td>\n      <td>3.446</td>\n      <td>318</td>\n      <td>1003</td>\n      <td>1</td>\n    </tr>\n  </tbody>\n</table>\n<p>5 rows × 58 columns</p>\n</div>"
     },
     "execution_count": 292,
     "metadata": {},
     "output_type": "execute_result"
    }
   ],
   "source": [
    "import pandas as pd\n",
    "import numpy as np\n",
    "from sklearn.preprocessing import KBinsDiscretizer\n",
    "from collections import Counter\n",
    "import matplotlib.pyplot as plt\n",
    "\n",
    "# create discretizer\n",
    "kbins = KBinsDiscretizer(n_bins=2, strategy='uniform', encode='ordinal')\n",
    "# read spambase.data into pandas dataframe\n",
    "df = pd.read_csv('spambase.data',header = None)\n",
    "\n",
    "df = df[(df[57] == 1)]\n",
    "print(len(df))\n",
    "df.tail()\n",
    "#df[(df[0] <= 2.38)]"
   ],
   "metadata": {
    "collapsed": false,
    "pycharm": {
     "name": "#%%\n"
    }
   }
  },
  {
   "cell_type": "code",
   "execution_count": 245,
   "outputs": [],
   "source": [
    "def plot_bins(values):\n",
    "    \"\"\"visualizes the number of observations in each bin\"\"\"\n",
    "\n",
    "    counter = Counter(values)\n",
    "    plt.bar(counter.keys(), counter.values())\n",
    "    plt.xlabel('Bins')\n",
    "    plt.ylabel('Frequency')\n",
    "    plt.show()\n",
    "\n",
    "def show_bins(bins):\n",
    "    \"\"\"Shows the ranges of values the bins comprises\"\"\"\n",
    "\n",
    "    for i in range(len(bins)-1):\n",
    "        print(f'Bin {i}: {str(bins[i])} -> {str(bins[i+1])}')"
   ],
   "metadata": {
    "collapsed": false,
    "pycharm": {
     "name": "#%%\n"
    }
   }
  },
  {
   "cell_type": "code",
   "execution_count": 268,
   "outputs": [
    {
     "data": {
      "text/plain": "<Figure size 640x480 with 1 Axes>",
      "image/png": "[encoded data removed]"
     },
     "metadata": {},
     "output_type": "display_data"
    },
    {
     "name": "stdout",
     "output_type": "stream",
     "text": [
      "Bin 0: 0.0 -> 0.0908\n",
      "Bin 1: 0.0908 -> 0.1816\n",
      "Bin 2: 0.1816 -> 0.27240000000000003\n",
      "Bin 3: 0.27240000000000003 -> 0.3632\n",
      "Bin 4: 0.3632 -> 0.454\n",
      "Bin 5: 0.454 -> 0.5448000000000001\n",
      "Bin 6: 0.5448000000000001 -> 0.6356\n",
      "Bin 7: 0.6356 -> 0.7264\n",
      "Bin 8: 0.7264 -> 0.8172\n",
      "Bin 9: 0.8172 -> 0.908\n",
      "Bin 10: 0.908 -> 0.9988\n",
      "Bin 11: 0.9988 -> 1.0896000000000001\n",
      "Bin 12: 1.0896000000000001 -> 1.1804000000000001\n",
      "Bin 13: 1.1804000000000001 -> 1.2712\n",
      "Bin 14: 1.2712 -> 1.362\n",
      "Bin 15: 1.362 -> 1.4528\n",
      "Bin 16: 1.4528 -> 1.5436\n",
      "Bin 17: 1.5436 -> 1.6344\n",
      "Bin 18: 1.6344 -> 1.7252\n",
      "Bin 19: 1.7252 -> 1.816\n",
      "Bin 20: 1.816 -> 1.9068\n",
      "Bin 21: 1.9068 -> 1.9976\n",
      "Bin 22: 1.9976 -> 2.0884\n",
      "Bin 23: 2.0884 -> 2.1792000000000002\n",
      "Bin 24: 2.1792000000000002 -> 2.27\n",
      "Bin 25: 2.27 -> 2.3608000000000002\n",
      "Bin 26: 2.3608000000000002 -> 2.4516\n",
      "Bin 27: 2.4516 -> 2.5424\n",
      "Bin 28: 2.5424 -> 2.6332\n",
      "Bin 29: 2.6332 -> 2.724\n",
      "Bin 30: 2.724 -> 2.8148\n",
      "Bin 31: 2.8148 -> 2.9056\n",
      "Bin 32: 2.9056 -> 2.9964000000000004\n",
      "Bin 33: 2.9964000000000004 -> 3.0872\n",
      "Bin 34: 3.0872 -> 3.1780000000000004\n",
      "Bin 35: 3.1780000000000004 -> 3.2688\n",
      "Bin 36: 3.2688 -> 3.3596000000000004\n",
      "Bin 37: 3.3596000000000004 -> 3.4504\n",
      "Bin 38: 3.4504 -> 3.5412000000000003\n",
      "Bin 39: 3.5412000000000003 -> 3.632\n",
      "Bin 40: 3.632 -> 3.7228000000000003\n",
      "Bin 41: 3.7228000000000003 -> 3.8136\n",
      "Bin 42: 3.8136 -> 3.9044000000000003\n",
      "Bin 43: 3.9044000000000003 -> 3.9952\n",
      "Bin 44: 3.9952 -> 4.086\n",
      "Bin 45: 4.086 -> 4.1768\n",
      "Bin 46: 4.1768 -> 4.2676\n",
      "Bin 47: 4.2676 -> 4.3584000000000005\n",
      "Bin 48: 4.3584000000000005 -> 4.4492\n",
      "Bin 49: 4.4492 -> 4.54\n"
     ]
    }
   ],
   "source": [
    "#bins = [2, 2, 2, 2]\n",
    "att = df.iloc[:, 0:1]\n",
    "att_bin = kbins.fit_transform(np.array(att).reshape(-1,1))\n",
    "# show results\n",
    "plot_bins(Counter(list(att_bin.flatten())))\n",
    "show_bins(kbins.bin_edges_[0])"
   ],
   "metadata": {
    "collapsed": false,
    "pycharm": {
     "name": "#%%\n"
    }
   }
  },
  {
   "cell_type": "code",
   "execution_count": 288,
   "outputs": [
    {
     "data": {
      "text/plain": "        0    1    2    3    4    5    6    7    8    9  ...   47   48   49  \\\n0     0.0  0.0  0.0  0.0  0.0  0.0  0.0  0.0  0.0  0.0  ...  0.0  0.0  0.0   \n1     0.0  0.0  0.0  0.0  0.0  0.0  0.0  0.0  0.0  0.0  ...  0.0  0.0  0.0   \n2     0.0  0.0  0.0  0.0  0.0  0.0  0.0  0.0  0.0  0.0  ...  0.0  0.0  0.0   \n3     0.0  0.0  0.0  0.0  0.0  0.0  0.0  0.0  0.0  0.0  ...  0.0  0.0  0.0   \n4     0.0  0.0  0.0  0.0  0.0  0.0  0.0  0.0  0.0  0.0  ...  0.0  0.0  0.0   \n...   ...  ...  ...  ...  ...  ...  ...  ...  ...  ...  ...  ...  ...  ...   \n1808  0.0  0.0  0.0  0.0  0.0  0.0  0.0  0.0  0.0  0.0  ...  0.0  0.0  0.0   \n1809  0.0  0.0  0.0  0.0  0.0  0.0  0.0  0.0  0.0  0.0  ...  0.0  0.0  0.0   \n1810  0.0  0.0  0.0  0.0  0.0  0.0  0.0  0.0  0.0  0.0  ...  0.0  0.0  0.0   \n1811  0.0  0.0  0.0  0.0  0.0  0.0  0.0  0.0  0.0  0.0  ...  0.0  0.0  0.0   \n1812  0.0  0.0  0.0  0.0  0.0  0.0  0.0  0.0  0.0  0.0  ...  0.0  0.0  0.0   \n\n       50   51   52   53   54   55   56  \n0     0.0  0.0  0.0  0.0  0.0  0.0  0.0  \n1     0.0  0.0  0.0  0.0  0.0  0.0  0.0  \n2     0.0  0.0  0.0  0.0  0.0  0.0  0.0  \n3     0.0  0.0  0.0  0.0  0.0  0.0  0.0  \n4     0.0  0.0  0.0  0.0  0.0  0.0  0.0  \n...   ...  ...  ...  ...  ...  ...  ...  \n1808  0.0  0.0  0.0  0.0  0.0  0.0  0.0  \n1809  0.0  0.0  0.0  0.0  0.0  0.0  0.0  \n1810  0.0  0.0  0.0  0.0  0.0  0.0  0.0  \n1811  0.0  0.0  0.0  0.0  0.0  0.0  0.0  \n1812  0.0  0.0  0.0  0.0  0.0  0.0  0.0  \n\n[1813 rows x 57 columns]",
      "text/html": "<div>\n<style scoped>\n    .dataframe tbody tr th:only-of-type {\n        vertical-align: middle;\n    }\n\n    .dataframe tbody tr th {\n        vertical-align: top;\n    }\n\n    .dataframe thead th {\n        text-align: right;\n    }\n</style>\n<table border=\"1\" class=\"dataframe\">\n  <thead>\n    <tr style=\"text-align: right;\">\n      <th></th>\n      <th>0</th>\n      <th>1</th>\n      <th>2</th>\n      <th>3</th>\n      <th>4</th>\n      <th>5</th>\n      <th>6</th>\n      <th>7</th>\n      <th>8</th>\n      <th>9</th>\n      <th>...</th>\n      <th>47</th>\n      <th>48</th>\n      <th>49</th>\n      <th>50</th>\n      <th>51</th>\n      <th>52</th>\n      <th>53</th>\n      <th>54</th>\n      <th>55</th>\n      <th>56</th>\n    </tr>\n  </thead>\n  <tbody>\n    <tr>\n      <th>0</th>\n      <td>0.0</td>\n      <td>0.0</td>\n      <td>0.0</td>\n      <td>0.0</td>\n      <td>0.0</td>\n      <td>0.0</td>\n      <td>0.0</td>\n      <td>0.0</td>\n      <td>0.0</td>\n      <td>0.0</td>\n      <td>...</td>\n      <td>0.0</td>\n      <td>0.0</td>\n      <td>0.0</td>\n      <td>0.0</td>\n      <td>0.0</td>\n      <td>0.0</td>\n      <td>0.0</td>\n      <td>0.0</td>\n      <td>0.0</td>\n      <td>0.0</td>\n    </tr>\n    <tr>\n      <th>1</th>\n      <td>0.0</td>\n      <td>0.0</td>\n      <td>0.0</td>\n      <td>0.0</td>\n      <td>0.0</td>\n      <td>0.0</td>\n      <td>0.0</td>\n      <td>0.0</td>\n      <td>0.0</td>\n      <td>0.0</td>\n      <td>...</td>\n      <td>0.0</td>\n      <td>0.0</td>\n      <td>0.0</td>\n      <td>0.0</td>\n      <td>0.0</td>\n      <td>0.0</td>\n      <td>0.0</td>\n      <td>0.0</td>\n      <td>0.0</td>\n      <td>0.0</td>\n    </tr>\n    <tr>\n      <th>2</th>\n      <td>0.0</td>\n      <td>0.0</td>\n      <td>0.0</td>\n      <td>0.0</td>\n      <td>0.0</td>\n      <td>0.0</td>\n      <td>0.0</td>\n      <td>0.0</td>\n      <td>0.0</td>\n      <td>0.0</td>\n      <td>...</td>\n      <td>0.0</td>\n      <td>0.0</td>\n      <td>0.0</td>\n      <td>0.0</td>\n      <td>0.0</td>\n      <td>0.0</td>\n      <td>0.0</td>\n      <td>0.0</td>\n      <td>0.0</td>\n      <td>0.0</td>\n    </tr>\n    <tr>\n      <th>3</th>\n      <td>0.0</td>\n      <td>0.0</td>\n      <td>0.0</td>\n      <td>0.0</td>\n      <td>0.0</td>\n      <td>0.0</td>\n      <td>0.0</td>\n      <td>0.0</td>\n      <td>0.0</td>\n      <td>0.0</td>\n      <td>...</td>\n      <td>0.0</td>\n      <td>0.0</td>\n      <td>0.0</td>\n      <td>0.0</td>\n      <td>0.0</td>\n      <td>0.0</td>\n      <td>0.0</td>\n      <td>0.0</td>\n      <td>0.0</td>\n      <td>0.0</td>\n    </tr>\n    <tr>\n      <th>4</th>\n      <td>0.0</td>\n      <td>0.0</td>\n      <td>0.0</td>\n      <td>0.0</td>\n      <td>0.0</td>\n      <td>0.0</td>\n      <td>0.0</td>\n      <td>0.0</td>\n      <td>0.0</td>\n      <td>0.0</td>\n      <td>...</td>\n      <td>0.0</td>\n      <td>0.0</td>\n      <td>0.0</td>\n      <td>0.0</td>\n      <td>0.0</td>\n      <td>0.0</td>\n      <td>0.0</td>\n      <td>0.0</td>\n      <td>0.0</td>\n      <td>0.0</td>\n    </tr>\n    <tr>\n      <th>...</th>\n      <td>...</td>\n      <td>...</td>\n      <td>...</td>\n      <td>...</td>\n      <td>...</td>\n      <td>...</td>\n      <td>...</td>\n      <td>...</td>\n      <td>...</td>\n      <td>...</td>\n      <td>...</td>\n      <td>...</td>\n      <td>...</td>\n      <td>...</td>\n      <td>...</td>\n      <td>...</td>\n      <td>...</td>\n      <td>...</td>\n      <td>...</td>\n      <td>...</td>\n      <td>...</td>\n    </tr>\n    <tr>\n      <th>1808</th>\n      <td>0.0</td>\n      <td>0.0</td>\n      <td>0.0</td>\n      <td>0.0</td>\n      <td>0.0</td>\n      <td>0.0</td>\n      <td>0.0</td>\n      <td>0.0</td>\n      <td>0.0</td>\n      <td>0.0</td>\n      <td>...</td>\n      <td>0.0</td>\n      <td>0.0</td>\n      <td>0.0</td>\n      <td>0.0</td>\n      <td>0.0</td>\n      <td>0.0</td>\n      <td>0.0</td>\n      <td>0.0</td>\n      <td>0.0</td>\n      <td>0.0</td>\n    </tr>\n    <tr>\n      <th>1809</th>\n      <td>0.0</td>\n      <td>0.0</td>\n      <td>0.0</td>\n      <td>0.0</td>\n      <td>0.0</td>\n      <td>0.0</td>\n      <td>0.0</td>\n      <td>0.0</td>\n      <td>0.0</td>\n      <td>0.0</td>\n      <td>...</td>\n      <td>0.0</td>\n      <td>0.0</td>\n      <td>0.0</td>\n      <td>0.0</td>\n      <td>0.0</td>\n      <td>0.0</td>\n      <td>0.0</td>\n      <td>0.0</td>\n      <td>0.0</td>\n      <td>0.0</td>\n    </tr>\n    <tr>\n      <th>1810</th>\n      <td>0.0</td>\n      <td>0.0</td>\n      <td>0.0</td>\n      <td>0.0</td>\n      <td>0.0</td>\n      <td>0.0</td>\n      <td>0.0</td>\n      <td>0.0</td>\n      <td>0.0</td>\n      <td>0.0</td>\n      <td>...</td>\n      <td>0.0</td>\n      <td>0.0</td>\n      <td>0.0</td>\n      <td>0.0</td>\n      <td>0.0</td>\n      <td>0.0</td>\n      <td>0.0</td>\n      <td>0.0</td>\n      <td>0.0</td>\n      <td>0.0</td>\n    </tr>\n    <tr>\n      <th>1811</th>\n      <td>0.0</td>\n      <td>0.0</td>\n      <td>0.0</td>\n      <td>0.0</td>\n      <td>0.0</td>\n      <td>0.0</td>\n      <td>0.0</td>\n      <td>0.0</td>\n      <td>0.0</td>\n      <td>0.0</td>\n      <td>...</td>\n      <td>0.0</td>\n      <td>0.0</td>\n      <td>0.0</td>\n      <td>0.0</td>\n      <td>0.0</td>\n      <td>0.0</td>\n      <td>0.0</td>\n      <td>0.0</td>\n      <td>0.0</td>\n      <td>0.0</td>\n    </tr>\n    <tr>\n      <th>1812</th>\n      <td>0.0</td>\n      <td>0.0</td>\n      <td>0.0</td>\n      <td>0.0</td>\n      <td>0.0</td>\n      <td>0.0</td>\n      <td>0.0</td>\n      <td>0.0</td>\n      <td>0.0</td>\n      <td>0.0</td>\n      <td>...</td>\n      <td>0.0</td>\n      <td>0.0</td>\n      <td>0.0</td>\n      <td>0.0</td>\n      <td>0.0</td>\n      <td>0.0</td>\n      <td>0.0</td>\n      <td>0.0</td>\n      <td>0.0</td>\n      <td>0.0</td>\n    </tr>\n  </tbody>\n</table>\n<p>1813 rows × 57 columns</p>\n</div>"
     },
     "execution_count": 288,
     "metadata": {},
     "output_type": "execute_result"
    }
   ],
   "source": [
    "# Equal-Width Discretization\n",
    "frames = []\n",
    "for i in range(0,57):\n",
    "    bin = kbins.fit_transform(np.array(df.iloc[:, i:i + 1]).reshape(-1,1))\n",
    "    frames.append(pd.DataFrame(bin, columns=[str(i)]))\n",
    "\n",
    "data = pd.concat(frames, axis=1)\n",
    "data\n",
    "#att1 = df.iloc[:, 0:1]\n",
    "#att2 = df.iloc[:, 1:2]\n",
    "#att_bin = kbins.fit_transform(np.array(att).reshape(-1,1))\n",
    "# att_bin48 = kbins.fit_transform(np.array(att48).reshape(-1,48))\n",
    "# att_bin54 = kbins.fit_transform(np.array(att54).reshape(-1,6))\n",
    "# att_bin55 = kbins.fit_transform(np.array(att55).reshape(-1,1))\n",
    "# att_bin56 = kbins.fit_transform(np.array(att56).reshape(-1,1))\n",
    "# att_bin57 = kbins.fit_transform(np.array(att57).reshape(-1,1))\n",
    "#print(len(att_bin))\n",
    "\n",
    "#att_bin_df = pd.DataFrame(att_bin)\n",
    "# att_bin_df48 = pd.DataFrame(att_bin48)\n",
    "# att_bin_df54 = pd.DataFrame(att_bin54)\n",
    "# att_bin_df55 = pd.DataFrame(att_bin55)\n",
    "# att_bin_df56 = pd.DataFrame(att_bin56)\n",
    "# att_bin_df57 = pd.DataFrame(att_bin57)\n",
    "#att_bin_df.head(100)\n",
    "# show results\n",
    "#plot_bins(Counter(list(att_bin.flatten())))\n",
    "#show_bins(kbins.bin_edges_[0])\n",
    "# frames = [att_bin_df48, att_bin_df54, att_bin_df55, att_bin_df56, att_bin_df57]\n",
    "\n",
    "#data = pd.concat(frames, axis=1)\n",
    "#data.head(100)\n"
   ],
   "metadata": {
    "collapsed": false,
    "pycharm": {
     "name": "#%%\n"
    }
   }
  },
  {
   "cell_type": "code",
   "execution_count": 293,
   "outputs": [
    {
     "name": "stdout",
     "output_type": "stream",
     "text": [
      "0 1\n",
      "1 2\n",
      "2 8\n",
      "3 5\n",
      "4 3\n",
      "5 9\n",
      "6 3\n",
      "7 1\n",
      "8 6\n",
      "9 1\n",
      "10 2\n",
      "11 3\n",
      "12 2\n",
      "13 1\n",
      "14 1\n",
      "15 1\n",
      "16 5\n",
      "17 2\n",
      "18 4\n",
      "19 1\n",
      "20 1\n",
      "21 6\n",
      "22 4\n",
      "23 2\n",
      "24 2\n",
      "25 7\n",
      "26 1\n",
      "27 2\n",
      "28 1\n",
      "29 1\n",
      "30 1\n",
      "31 2\n",
      "32 2\n",
      "33 1\n",
      "34 1\n",
      "35 7\n",
      "36 1\n",
      "37 1\n",
      "38 1\n",
      "39 4\n",
      "40 1\n",
      "41 8\n",
      "42 3\n",
      "43 5\n",
      "44 1\n",
      "45 2\n",
      "46 4\n",
      "47 1\n",
      "48 12\n",
      "49 1\n",
      "50 1\n",
      "51 13\n",
      "52 4\n",
      "53 1\n",
      "54 2\n",
      "55 1\n",
      "56 1\n"
     ]
    }
   ],
   "source": [
    "#df[(df[1] <= 7.14)]\n",
    "for k in range(0,57):\n",
    "    print(str(k) + \" \" + str(len(data[(data[str(k)] == 2)])))"
   ],
   "metadata": {
    "collapsed": false,
    "pycharm": {
     "name": "#%%\n"
    }
   }
  },
  {
   "cell_type": "code",
   "execution_count": null,
   "outputs": [],
   "source": [
    "\"27 28 31 33 37 40 46 55\""
   ],
   "metadata": {
    "collapsed": false,
    "pycharm": {
     "name": "#%%\n"
    }
   }
  }
 ],
 "metadata": {
  "kernelspec": {
   "display_name": "Python 3",
   "language": "python",
   "name": "python3"
  },
  "language_info": {
   "codemirror_mode": {
    "name": "ipython",
    "version": 2
   },
   "file_extension": ".py",
   "mimetype": "text/x-python",
   "name": "python",
   "nbconvert_exporter": "python",
   "pygments_lexer": "ipython2",
   "version": "2.7.6"
  }
 },
 "nbformat": 4,
 "nbformat_minor": 0
}