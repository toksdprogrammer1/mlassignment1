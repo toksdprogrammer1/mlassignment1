{
 "cells": [
  {
   "cell_type": "code",
   "execution_count": 79,
   "outputs": [
    {
     "name": "stdout",
     "output_type": "stream",
     "text": [
      "4601\n"
     ]
    },
    {
     "data": {
      "text/plain": "     0     1     2    3     4     5     6     7     8     9   ...    48  \\\n0  0.00  0.64  0.64  0.0  0.32  0.00  0.00  0.00  0.00  0.00  ...  0.00   \n1  0.21  0.28  0.50  0.0  0.14  0.28  0.21  0.07  0.00  0.94  ...  0.00   \n2  0.06  0.00  0.71  0.0  1.23  0.19  0.19  0.12  0.64  0.25  ...  0.01   \n3  0.00  0.00  0.00  0.0  0.63  0.00  0.31  0.63  0.31  0.63  ...  0.00   \n4  0.00  0.00  0.00  0.0  0.63  0.00  0.31  0.63  0.31  0.63  ...  0.00   \n\n      49   50     51     52     53     54   55    56  57  \n0  0.000  0.0  0.778  0.000  0.000  3.756   61   278   1  \n1  0.132  0.0  0.372  0.180  0.048  5.114  101  1028   1  \n2  0.143  0.0  0.276  0.184  0.010  9.821  485  2259   1  \n3  0.137  0.0  0.137  0.000  0.000  3.537   40   191   1  \n4  0.135  0.0  0.135  0.000  0.000  3.537   40   191   1  \n\n[5 rows x 58 columns]",
      "text/html": "<div>\n<style scoped>\n    .dataframe tbody tr th:only-of-type {\n        vertical-align: middle;\n    }\n\n    .dataframe tbody tr th {\n        vertical-align: top;\n    }\n\n    .dataframe thead th {\n        text-align: right;\n    }\n</style>\n<table border=\"1\" class=\"dataframe\">\n  <thead>\n    <tr style=\"text-align: right;\">\n      <th></th>\n      <th>0</th>\n      <th>1</th>\n      <th>2</th>\n      <th>3</th>\n      <th>4</th>\n      <th>5</th>\n      <th>6</th>\n      <th>7</th>\n      <th>8</th>\n      <th>9</th>\n      <th>...</th>\n      <th>48</th>\n      <th>49</th>\n      <th>50</th>\n      <th>51</th>\n      <th>52</th>\n      <th>53</th>\n      <th>54</th>\n      <th>55</th>\n      <th>56</th>\n      <th>57</th>\n    </tr>\n  </thead>\n  <tbody>\n    <tr>\n      <th>0</th>\n      <td>0.00</td>\n      <td>0.64</td>\n      <td>0.64</td>\n      <td>0.0</td>\n      <td>0.32</td>\n      <td>0.00</td>\n      <td>0.00</td>\n      <td>0.00</td>\n      <td>0.00</td>\n      <td>0.00</td>\n      <td>...</td>\n      <td>0.00</td>\n      <td>0.000</td>\n      <td>0.0</td>\n      <td>0.778</td>\n      <td>0.000</td>\n      <td>0.000</td>\n      <td>3.756</td>\n      <td>61</td>\n      <td>278</td>\n      <td>1</td>\n    </tr>\n    <tr>\n      <th>1</th>\n      <td>0.21</td>\n      <td>0.28</td>\n      <td>0.50</td>\n      <td>0.0</td>\n      <td>0.14</td>\n      <td>0.28</td>\n      <td>0.21</td>\n      <td>0.07</td>\n      <td>0.00</td>\n      <td>0.94</td>\n      <td>...</td>\n      <td>0.00</td>\n      <td>0.132</td>\n      <td>0.0</td>\n      <td>0.372</td>\n      <td>0.180</td>\n      <td>0.048</td>\n      <td>5.114</td>\n      <td>101</td>\n      <td>1028</td>\n      <td>1</td>\n    </tr>\n    <tr>\n      <th>2</th>\n      <td>0.06</td>\n      <td>0.00</td>\n      <td>0.71</td>\n      <td>0.0</td>\n      <td>1.23</td>\n      <td>0.19</td>\n      <td>0.19</td>\n      <td>0.12</td>\n      <td>0.64</td>\n      <td>0.25</td>\n      <td>...</td>\n      <td>0.01</td>\n      <td>0.143</td>\n      <td>0.0</td>\n      <td>0.276</td>\n      <td>0.184</td>\n      <td>0.010</td>\n      <td>9.821</td>\n      <td>485</td>\n      <td>2259</td>\n      <td>1</td>\n    </tr>\n    <tr>\n      <th>3</th>\n      <td>0.00</td>\n      <td>0.00</td>\n      <td>0.00</td>\n      <td>0.0</td>\n      <td>0.63</td>\n      <td>0.00</td>\n      <td>0.31</td>\n      <td>0.63</td>\n      <td>0.31</td>\n      <td>0.63</td>\n      <td>...</td>\n      <td>0.00</td>\n      <td>0.137</td>\n      <td>0.0</td>\n      <td>0.137</td>\n      <td>0.000</td>\n      <td>0.000</td>\n      <td>3.537</td>\n      <td>40</td>\n      <td>191</td>\n      <td>1</td>\n    </tr>\n    <tr>\n      <th>4</th>\n      <td>0.00</td>\n      <td>0.00</td>\n      <td>0.00</td>\n      <td>0.0</td>\n      <td>0.63</td>\n      <td>0.00</td>\n      <td>0.31</td>\n      <td>0.63</td>\n      <td>0.31</td>\n      <td>0.63</td>\n      <td>...</td>\n      <td>0.00</td>\n      <td>0.135</td>\n      <td>0.0</td>\n      <td>0.135</td>\n      <td>0.000</td>\n      <td>0.000</td>\n      <td>3.537</td>\n      <td>40</td>\n      <td>191</td>\n      <td>1</td>\n    </tr>\n  </tbody>\n</table>\n<p>5 rows × 58 columns</p>\n</div>"
     },
     "execution_count": 79,
     "metadata": {},
     "output_type": "execute_result"
    }
   ],
   "source": [
    "import pandas as pd\n",
    "import numpy as np\n",
    "from sklearn.preprocessing import KBinsDiscretizer\n",
    "from collections import Counter\n",
    "import matplotlib.pyplot as plt\n",
    "\n",
    "# create discretizer\n",
    "kbins = KBinsDiscretizer(n_bins=2, strategy='uniform', encode='ordinal')\n",
    "#kbins6 = KBinsDiscretizer(n_bins=6, strategy='uniform', encode='ordinal')\n",
    "\n",
    "# read spambase.data into pandas dataframe\n",
    "df = pd.read_csv('spambase.data',header = None)\n",
    "print(len(df))\n",
    "df.head()"
   ],
   "metadata": {
    "collapsed": false,
    "pycharm": {
     "name": "#%%\n"
    }
   }
  },
  {
   "cell_type": "code",
   "execution_count": 80,
   "outputs": [],
   "source": [
    "def plot_bins(values):\n",
    "    \"\"\"visualizes the number of observations in each bin\"\"\"\n",
    "\n",
    "    counter = Counter(values)\n",
    "    plt.bar(counter.keys(), counter.values())\n",
    "    plt.xlabel('Bins')\n",
    "    plt.ylabel('Frequency')\n",
    "    plt.show()\n",
    "\n",
    "def show_bins(bins):\n",
    "    \"\"\"Shows the ranges of values the bins comprises\"\"\"\n",
    "\n",
    "    for i in range(len(bins)-1):\n",
    "        print(f'Bin {i}: {str(bins[i])} -> {str(bins[i+1])}')"
   ],
   "metadata": {
    "collapsed": false,
    "pycharm": {
     "name": "#%%\n"
    }
   }
  },
  {
   "cell_type": "code",
   "execution_count": 81,
   "outputs": [
    {
     "name": "stdout",
     "output_type": "stream",
     "text": [
      "4601\n"
     ]
    },
    {
     "data": {
      "text/plain": "<Figure size 640x480 with 1 Axes>",
      "image/png": "[encoded data removed]"
     },
     "metadata": {},
     "output_type": "display_data"
    },
    {
     "name": "stdout",
     "output_type": "stream",
     "text": [
      "Bin 0: 0.0 -> 2.27\n",
      "Bin 1: 2.27 -> 4.54\n"
     ]
    }
   ],
   "source": [
    "# Equal-Width Discretization\n",
    "att = df.iloc[:, 0:1] # select 1st 48 attributes\n",
    "#att48 = df.iloc[:, 0:48] # select 1st 48 attributes\n",
    "# att54 = df.iloc[:, 48:54] # select following 6 attributes\n",
    "# att55 = df.iloc[:, 54:55] # select following 1 attributes\n",
    "# att56 = df.iloc[:, 55:56] # select following 1 attributes\n",
    "# att57 = df.iloc[:, 56:57] # select following 1 attributes\n",
    "att_bin = kbins.fit_transform(np.array(att).reshape(-1,1))\n",
    "# att_bin48 = kbins.fit_transform(np.array(att48).reshape(-1,48))\n",
    "# att_bin54 = kbins.fit_transform(np.array(att54).reshape(-1,6))\n",
    "# att_bin55 = kbins.fit_transform(np.array(att55).reshape(-1,1))\n",
    "# att_bin56 = kbins.fit_transform(np.array(att56).reshape(-1,1))\n",
    "# att_bin57 = kbins.fit_transform(np.array(att57).reshape(-1,1))\n",
    "print(len(att_bin))\n",
    "\n",
    "att_bin_df = pd.DataFrame(att_bin)\n",
    "# att_bin_df48 = pd.DataFrame(att_bin48)\n",
    "# att_bin_df54 = pd.DataFrame(att_bin54)\n",
    "# att_bin_df55 = pd.DataFrame(att_bin55)\n",
    "# att_bin_df56 = pd.DataFrame(att_bin56)\n",
    "# att_bin_df57 = pd.DataFrame(att_bin57)\n",
    "att_bin_df.head(100)\n",
    "# show results\n",
    "plot_bins(Counter(list(att_bin.flatten())))\n",
    "show_bins(kbins.bin_edges_[0])\n",
    "# frames = [att_bin_df48, att_bin_df54, att_bin_df55, att_bin_df56, att_bin_df57]\n",
    "\n",
    "#data = pd.concat(frames, axis=1)\n",
    "#data.head(100)\n"
   ],
   "metadata": {
    "collapsed": false,
    "pycharm": {
     "name": "#%%\n"
    }
   }
  },
  {
   "cell_type": "code",
   "execution_count": 82,
   "outputs": [
    {
     "data": {
      "text/plain": "        0     1     2    3     4     5     6    7     8     9   ...   48  \\\n566   2.43  0.00  0.00  0.0  0.00  0.00  0.00  0.0  0.00  0.00  ...  0.0   \n588   2.32  0.00  0.00  0.0  0.00  0.00  0.00  0.0  0.00  0.00  ...  0.0   \n683   2.32  0.00  0.77  0.0  1.55  0.00  0.00  0.0  0.00  0.00  ...  0.0   \n916   2.35  0.00  0.00  0.0  0.00  0.00  2.35  0.0  2.35  0.00  ...  0.0   \n1630  4.54  4.54  0.00  0.0  0.00  0.00  0.00  0.0  0.00  0.00  ...  0.0   \n2077  2.77  0.00  0.00  0.0  0.00  0.00  0.00  0.0  0.00  0.00  ...  0.0   \n2215  2.77  0.00  0.00  0.0  0.00  0.00  0.00  0.0  0.00  0.00  ...  0.0   \n2827  2.27  0.00  2.27  0.0  0.00  0.00  0.00  0.0  0.00  0.00  ...  0.0   \n3186  3.94  0.00  0.00  0.0  0.00  0.00  0.00  0.0  0.00  0.00  ...  0.0   \n3479  3.03  0.00  0.00  0.0  0.00  0.00  0.00  0.0  0.00  0.00  ...  0.0   \n3932  2.85  0.00  0.00  0.0  0.00  0.00  0.00  0.0  0.00  0.00  ...  0.0   \n4065  3.84  0.00  0.00  0.0  0.00  0.00  0.00  0.0  0.00  0.00  ...  0.0   \n4191  2.32  0.00  0.00  0.0  0.00  0.77  0.00  0.0  0.00  0.00  ...  0.0   \n4291  2.27  0.00  0.00  0.0  0.00  0.00  0.00  0.0  0.00  2.27  ...  0.0   \n4292  4.00  0.00  1.00  0.0  1.00  0.00  0.00  0.0  0.00  0.00  ...  0.0   \n4378  4.34  0.00  0.00  0.0  0.00  0.00  0.00  0.0  0.00  0.00  ...  0.0   \n\n         49   50     51     52   53       54   55   56  57  \n566   0.000  0.0  0.000  0.000  0.0    3.666   13   44   1  \n588   0.000  0.0  0.277  0.000  0.0    3.200   13   48   1  \n683   0.134  0.0  0.671  0.000  0.0  129.500  515  518   1  \n916   0.000  0.0  0.168  0.336  0.0    4.576   17  119   1  \n1630  0.000  0.0  3.076  0.000  0.0    1.428    4   10   1  \n2077  0.000  0.0  0.213  0.000  0.0    1.750    6   49   0  \n2215  0.000  0.0  0.000  0.000  0.0    1.100    2   11   0  \n2827  0.401  0.0  0.000  0.000  0.0    1.000    1    5   0  \n3186  0.000  0.0  0.000  0.000  0.0    1.800    5   36   0  \n3479  0.609  0.0  0.000  0.000  0.0    1.181    3   13   0  \n3932  0.465  0.0  0.000  0.000  0.0    1.250    3   10   0  \n4065  0.645  0.0  0.000  0.000  0.0    1.000    1    6   0  \n4191  0.000  0.0  0.159  0.000  0.0    1.346    4   35   0  \n4291  0.000  0.0  0.000  0.000  0.0    1.200    3   12   0  \n4292  0.168  0.0  0.168  0.000  0.0    1.459   10   54   0  \n4378  0.000  0.0  0.000  0.000  0.0    1.750    4   14   0  \n\n[16 rows x 58 columns]",
      "text/html": "<div>\n<style scoped>\n    .dataframe tbody tr th:only-of-type {\n        vertical-align: middle;\n    }\n\n    .dataframe tbody tr th {\n        vertical-align: top;\n    }\n\n    .dataframe thead th {\n        text-align: right;\n    }\n</style>\n<table border=\"1\" class=\"dataframe\">\n  <thead>\n    <tr style=\"text-align: right;\">\n      <th></th>\n      <th>0</th>\n      <th>1</th>\n      <th>2</th>\n      <th>3</th>\n      <th>4</th>\n      <th>5</th>\n      <th>6</th>\n      <th>7</th>\n      <th>8</th>\n      <th>9</th>\n      <th>...</th>\n      <th>48</th>\n      <th>49</th>\n      <th>50</th>\n      <th>51</th>\n      <th>52</th>\n      <th>53</th>\n      <th>54</th>\n      <th>55</th>\n      <th>56</th>\n      <th>57</th>\n    </tr>\n  </thead>\n  <tbody>\n    <tr>\n      <th>566</th>\n      <td>2.43</td>\n      <td>0.00</td>\n      <td>0.00</td>\n      <td>0.0</td>\n      <td>0.00</td>\n      <td>0.00</td>\n      <td>0.00</td>\n      <td>0.0</td>\n      <td>0.00</td>\n      <td>0.00</td>\n      <td>...</td>\n      <td>0.0</td>\n      <td>0.000</td>\n      <td>0.0</td>\n      <td>0.000</td>\n      <td>0.000</td>\n      <td>0.0</td>\n      <td>3.666</td>\n      <td>13</td>\n      <td>44</td>\n      <td>1</td>\n    </tr>\n    <tr>\n      <th>588</th>\n      <td>2.32</td>\n      <td>0.00</td>\n      <td>0.00</td>\n      <td>0.0</td>\n      <td>0.00</td>\n      <td>0.00</td>\n      <td>0.00</td>\n      <td>0.0</td>\n      <td>0.00</td>\n      <td>0.00</td>\n      <td>...</td>\n      <td>0.0</td>\n      <td>0.000</td>\n      <td>0.0</td>\n      <td>0.277</td>\n      <td>0.000</td>\n      <td>0.0</td>\n      <td>3.200</td>\n      <td>13</td>\n      <td>48</td>\n      <td>1</td>\n    </tr>\n    <tr>\n      <th>683</th>\n      <td>2.32</td>\n      <td>0.00</td>\n      <td>0.77</td>\n      <td>0.0</td>\n      <td>1.55</td>\n      <td>0.00</td>\n      <td>0.00</td>\n      <td>0.0</td>\n      <td>0.00</td>\n      <td>0.00</td>\n      <td>...</td>\n      <td>0.0</td>\n      <td>0.134</td>\n      <td>0.0</td>\n      <td>0.671</td>\n      <td>0.000</td>\n      <td>0.0</td>\n      <td>129.500</td>\n      <td>515</td>\n      <td>518</td>\n      <td>1</td>\n    </tr>\n    <tr>\n      <th>916</th>\n      <td>2.35</td>\n      <td>0.00</td>\n      <td>0.00</td>\n      <td>0.0</td>\n      <td>0.00</td>\n      <td>0.00</td>\n      <td>2.35</td>\n      <td>0.0</td>\n      <td>2.35</td>\n      <td>0.00</td>\n      <td>...</td>\n      <td>0.0</td>\n      <td>0.000</td>\n      <td>0.0</td>\n      <td>0.168</td>\n      <td>0.336</td>\n      <td>0.0</td>\n      <td>4.576</td>\n      <td>17</td>\n      <td>119</td>\n      <td>1</td>\n    </tr>\n    <tr>\n      <th>1630</th>\n      <td>4.54</td>\n      <td>4.54</td>\n      <td>0.00</td>\n      <td>0.0</td>\n      <td>0.00</td>\n      <td>0.00</td>\n      <td>0.00</td>\n      <td>0.0</td>\n      <td>0.00</td>\n      <td>0.00</td>\n      <td>...</td>\n      <td>0.0</td>\n      <td>0.000</td>\n      <td>0.0</td>\n      <td>3.076</td>\n      <td>0.000</td>\n      <td>0.0</td>\n      <td>1.428</td>\n      <td>4</td>\n      <td>10</td>\n      <td>1</td>\n    </tr>\n    <tr>\n      <th>2077</th>\n      <td>2.77</td>\n      <td>0.00</td>\n      <td>0.00</td>\n      <td>0.0</td>\n      <td>0.00</td>\n      <td>0.00</td>\n      <td>0.00</td>\n      <td>0.0</td>\n      <td>0.00</td>\n      <td>0.00</td>\n      <td>...</td>\n      <td>0.0</td>\n      <td>0.000</td>\n      <td>0.0</td>\n      <td>0.213</td>\n      <td>0.000</td>\n      <td>0.0</td>\n      <td>1.750</td>\n      <td>6</td>\n      <td>49</td>\n      <td>0</td>\n    </tr>\n    <tr>\n      <th>2215</th>\n      <td>2.77</td>\n      <td>0.00</td>\n      <td>0.00</td>\n      <td>0.0</td>\n      <td>0.00</td>\n      <td>0.00</td>\n      <td>0.00</td>\n      <td>0.0</td>\n      <td>0.00</td>\n      <td>0.00</td>\n      <td>...</td>\n      <td>0.0</td>\n      <td>0.000</td>\n      <td>0.0</td>\n      <td>0.000</td>\n      <td>0.000</td>\n      <td>0.0</td>\n      <td>1.100</td>\n      <td>2</td>\n      <td>11</td>\n      <td>0</td>\n    </tr>\n    <tr>\n      <th>2827</th>\n      <td>2.27</td>\n      <td>0.00</td>\n      <td>2.27</td>\n      <td>0.0</td>\n      <td>0.00</td>\n      <td>0.00</td>\n      <td>0.00</td>\n      <td>0.0</td>\n      <td>0.00</td>\n      <td>0.00</td>\n      <td>...</td>\n      <td>0.0</td>\n      <td>0.401</td>\n      <td>0.0</td>\n      <td>0.000</td>\n      <td>0.000</td>\n      <td>0.0</td>\n      <td>1.000</td>\n      <td>1</td>\n      <td>5</td>\n      <td>0</td>\n    </tr>\n    <tr>\n      <th>3186</th>\n      <td>3.94</td>\n      <td>0.00</td>\n      <td>0.00</td>\n      <td>0.0</td>\n      <td>0.00</td>\n      <td>0.00</td>\n      <td>0.00</td>\n      <td>0.0</td>\n      <td>0.00</td>\n      <td>0.00</td>\n      <td>...</td>\n      <td>0.0</td>\n      <td>0.000</td>\n      <td>0.0</td>\n      <td>0.000</td>\n      <td>0.000</td>\n      <td>0.0</td>\n      <td>1.800</td>\n      <td>5</td>\n      <td>36</td>\n      <td>0</td>\n    </tr>\n    <tr>\n      <th>3479</th>\n      <td>3.03</td>\n      <td>0.00</td>\n      <td>0.00</td>\n      <td>0.0</td>\n      <td>0.00</td>\n      <td>0.00</td>\n      <td>0.00</td>\n      <td>0.0</td>\n      <td>0.00</td>\n      <td>0.00</td>\n      <td>...</td>\n      <td>0.0</td>\n      <td>0.609</td>\n      <td>0.0</td>\n      <td>0.000</td>\n      <td>0.000</td>\n      <td>0.0</td>\n      <td>1.181</td>\n      <td>3</td>\n      <td>13</td>\n      <td>0</td>\n    </tr>\n    <tr>\n      <th>3932</th>\n      <td>2.85</td>\n      <td>0.00</td>\n      <td>0.00</td>\n      <td>0.0</td>\n      <td>0.00</td>\n      <td>0.00</td>\n      <td>0.00</td>\n      <td>0.0</td>\n      <td>0.00</td>\n      <td>0.00</td>\n      <td>...</td>\n      <td>0.0</td>\n      <td>0.465</td>\n      <td>0.0</td>\n      <td>0.000</td>\n      <td>0.000</td>\n      <td>0.0</td>\n      <td>1.250</td>\n      <td>3</td>\n      <td>10</td>\n      <td>0</td>\n    </tr>\n    <tr>\n      <th>4065</th>\n      <td>3.84</td>\n      <td>0.00</td>\n      <td>0.00</td>\n      <td>0.0</td>\n      <td>0.00</td>\n      <td>0.00</td>\n      <td>0.00</td>\n      <td>0.0</td>\n      <td>0.00</td>\n      <td>0.00</td>\n      <td>...</td>\n      <td>0.0</td>\n      <td>0.645</td>\n      <td>0.0</td>\n      <td>0.000</td>\n      <td>0.000</td>\n      <td>0.0</td>\n      <td>1.000</td>\n      <td>1</td>\n      <td>6</td>\n      <td>0</td>\n    </tr>\n    <tr>\n      <th>4191</th>\n      <td>2.32</td>\n      <td>0.00</td>\n      <td>0.00</td>\n      <td>0.0</td>\n      <td>0.00</td>\n      <td>0.77</td>\n      <td>0.00</td>\n      <td>0.0</td>\n      <td>0.00</td>\n      <td>0.00</td>\n      <td>...</td>\n      <td>0.0</td>\n      <td>0.000</td>\n      <td>0.0</td>\n      <td>0.159</td>\n      <td>0.000</td>\n      <td>0.0</td>\n      <td>1.346</td>\n      <td>4</td>\n      <td>35</td>\n      <td>0</td>\n    </tr>\n    <tr>\n      <th>4291</th>\n      <td>2.27</td>\n      <td>0.00</td>\n      <td>0.00</td>\n      <td>0.0</td>\n      <td>0.00</td>\n      <td>0.00</td>\n      <td>0.00</td>\n      <td>0.0</td>\n      <td>0.00</td>\n      <td>2.27</td>\n      <td>...</td>\n      <td>0.0</td>\n      <td>0.000</td>\n      <td>0.0</td>\n      <td>0.000</td>\n      <td>0.000</td>\n      <td>0.0</td>\n      <td>1.200</td>\n      <td>3</td>\n      <td>12</td>\n      <td>0</td>\n    </tr>\n    <tr>\n      <th>4292</th>\n      <td>4.00</td>\n      <td>0.00</td>\n      <td>1.00</td>\n      <td>0.0</td>\n      <td>1.00</td>\n      <td>0.00</td>\n      <td>0.00</td>\n      <td>0.0</td>\n      <td>0.00</td>\n      <td>0.00</td>\n      <td>...</td>\n      <td>0.0</td>\n      <td>0.168</td>\n      <td>0.0</td>\n      <td>0.168</td>\n      <td>0.000</td>\n      <td>0.0</td>\n      <td>1.459</td>\n      <td>10</td>\n      <td>54</td>\n      <td>0</td>\n    </tr>\n    <tr>\n      <th>4378</th>\n      <td>4.34</td>\n      <td>0.00</td>\n      <td>0.00</td>\n      <td>0.0</td>\n      <td>0.00</td>\n      <td>0.00</td>\n      <td>0.00</td>\n      <td>0.0</td>\n      <td>0.00</td>\n      <td>0.00</td>\n      <td>...</td>\n      <td>0.0</td>\n      <td>0.000</td>\n      <td>0.0</td>\n      <td>0.000</td>\n      <td>0.000</td>\n      <td>0.0</td>\n      <td>1.750</td>\n      <td>4</td>\n      <td>14</td>\n      <td>0</td>\n    </tr>\n  </tbody>\n</table>\n<p>16 rows × 58 columns</p>\n</div>"
     },
     "execution_count": 82,
     "metadata": {},
     "output_type": "execute_result"
    }
   ],
   "source": [
    "df[df[0] >= 2.27]"
   ],
   "metadata": {
    "collapsed": false,
    "pycharm": {
     "name": "#%%\n"
    }
   }
  },
  {
   "cell_type": "code",
   "execution_count": null,
   "outputs": [],
   "source": [],
   "metadata": {
    "collapsed": false,
    "pycharm": {
     "name": "#%%\n"
    }
   }
  }
 ],
 "metadata": {
  "kernelspec": {
   "display_name": "Python 3",
   "language": "python",
   "name": "python3"
  },
  "language_info": {
   "codemirror_mode": {
    "name": "ipython",
    "version": 2
   },
   "file_extension": ".py",
   "mimetype": "text/x-python",
   "name": "python",
   "nbconvert_exporter": "python",
   "pygments_lexer": "ipython2",
   "version": "2.7.6"
  }
 },
 "nbformat": 4,
 "nbformat_minor": 0
}